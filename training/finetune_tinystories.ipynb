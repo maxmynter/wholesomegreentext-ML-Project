{
  "cells": [
    {
      "cell_type": "code",
      "execution_count": null,
      "metadata": {
        "_cell_guid": "b1076dfc-b9ad-4769-8c92-a6c4dae69d19",
        "_uuid": "8f2839f25d086af736a60e9eeb907d3b93b6e0e5",
        "colab": {
          "base_uri": "https://localhost:8080/"
        },
        "execution": {
          "iopub.execute_input": "2024-01-14T14:24:02.442918Z",
          "iopub.status.busy": "2024-01-14T14:24:02.442086Z",
          "iopub.status.idle": "2024-01-14T14:24:38.823998Z",
          "shell.execute_reply": "2024-01-14T14:24:38.822804Z",
          "shell.execute_reply.started": "2024-01-14T14:24:02.442883Z"
        },
        "id": "ogcE8rzz-cKo",
        "outputId": "639039c9-0e02-433e-e541-6c567e921d18",
        "trusted": true
      },
      "outputs": [
        {
          "name": "stdout",
          "output_type": "stream",
          "text": [
            "Requirement already satisfied: transformers in /usr/local/lib/python3.10/dist-packages (4.35.2)\n",
            "Requirement already satisfied: filelock in /usr/local/lib/python3.10/dist-packages (from transformers) (3.13.1)\n",
            "Requirement already satisfied: huggingface-hub<1.0,>=0.16.4 in /usr/local/lib/python3.10/dist-packages (from transformers) (0.20.2)\n",
            "Requirement already satisfied: numpy>=1.17 in /usr/local/lib/python3.10/dist-packages (from transformers) (1.23.5)\n",
            "Requirement already satisfied: packaging>=20.0 in /usr/local/lib/python3.10/dist-packages (from transformers) (23.2)\n",
            "Requirement already satisfied: pyyaml>=5.1 in /usr/local/lib/python3.10/dist-packages (from transformers) (6.0.1)\n",
            "Requirement already satisfied: regex!=2019.12.17 in /usr/local/lib/python3.10/dist-packages (from transformers) (2023.6.3)\n",
            "Requirement already satisfied: requests in /usr/local/lib/python3.10/dist-packages (from transformers) (2.31.0)\n",
            "Requirement already satisfied: tokenizers<0.19,>=0.14 in /usr/local/lib/python3.10/dist-packages (from transformers) (0.15.0)\n",
            "Requirement already satisfied: safetensors>=0.3.1 in /usr/local/lib/python3.10/dist-packages (from transformers) (0.4.1)\n",
            "Requirement already satisfied: tqdm>=4.27 in /usr/local/lib/python3.10/dist-packages (from transformers) (4.66.1)\n",
            "Requirement already satisfied: fsspec>=2023.5.0 in /usr/local/lib/python3.10/dist-packages (from huggingface-hub<1.0,>=0.16.4->transformers) (2023.6.0)\n",
            "Requirement already satisfied: typing-extensions>=3.7.4.3 in /usr/local/lib/python3.10/dist-packages (from huggingface-hub<1.0,>=0.16.4->transformers) (4.5.0)\n",
            "Requirement already satisfied: charset-normalizer<4,>=2 in /usr/local/lib/python3.10/dist-packages (from requests->transformers) (3.3.2)\n",
            "Requirement already satisfied: idna<4,>=2.5 in /usr/local/lib/python3.10/dist-packages (from requests->transformers) (3.6)\n",
            "Requirement already satisfied: urllib3<3,>=1.21.1 in /usr/local/lib/python3.10/dist-packages (from requests->transformers) (2.0.7)\n",
            "Requirement already satisfied: certifi>=2017.4.17 in /usr/local/lib/python3.10/dist-packages (from requests->transformers) (2023.11.17)\n",
            "Requirement already satisfied: pandas==1.5.3 in /usr/local/lib/python3.10/dist-packages (1.5.3)\n",
            "Requirement already satisfied: python-dateutil>=2.8.1 in /usr/local/lib/python3.10/dist-packages (from pandas==1.5.3) (2.8.2)\n",
            "Requirement already satisfied: pytz>=2020.1 in /usr/local/lib/python3.10/dist-packages (from pandas==1.5.3) (2023.3.post1)\n",
            "Requirement already satisfied: numpy>=1.21.0 in /usr/local/lib/python3.10/dist-packages (from pandas==1.5.3) (1.23.5)\n",
            "Requirement already satisfied: six>=1.5 in /usr/local/lib/python3.10/dist-packages (from python-dateutil>=2.8.1->pandas==1.5.3) (1.16.0)\n",
            "Requirement already satisfied: datasets in /usr/local/lib/python3.10/dist-packages (2.16.1)\n",
            "Requirement already satisfied: filelock in /usr/local/lib/python3.10/dist-packages (from datasets) (3.13.1)\n",
            "Requirement already satisfied: numpy>=1.17 in /usr/local/lib/python3.10/dist-packages (from datasets) (1.23.5)\n",
            "Requirement already satisfied: pyarrow>=8.0.0 in /usr/local/lib/python3.10/dist-packages (from datasets) (10.0.1)\n",
            "Requirement already satisfied: pyarrow-hotfix in /usr/local/lib/python3.10/dist-packages (from datasets) (0.6)\n",
            "Requirement already satisfied: dill<0.3.8,>=0.3.0 in /usr/local/lib/python3.10/dist-packages (from datasets) (0.3.7)\n",
            "Requirement already satisfied: pandas in /usr/local/lib/python3.10/dist-packages (from datasets) (1.5.3)\n",
            "Requirement already satisfied: requests>=2.19.0 in /usr/local/lib/python3.10/dist-packages (from datasets) (2.31.0)\n",
            "Requirement already satisfied: tqdm>=4.62.1 in /usr/local/lib/python3.10/dist-packages (from datasets) (4.66.1)\n",
            "Requirement already satisfied: xxhash in /usr/local/lib/python3.10/dist-packages (from datasets) (3.4.1)\n",
            "Requirement already satisfied: multiprocess in /usr/local/lib/python3.10/dist-packages (from datasets) (0.70.15)\n",
            "Requirement already satisfied: fsspec[http]<=2023.10.0,>=2023.1.0 in /usr/local/lib/python3.10/dist-packages (from datasets) (2023.6.0)\n",
            "Requirement already satisfied: aiohttp in /usr/local/lib/python3.10/dist-packages (from datasets) (3.9.1)\n",
            "Requirement already satisfied: huggingface-hub>=0.19.4 in /usr/local/lib/python3.10/dist-packages (from datasets) (0.20.2)\n",
            "Requirement already satisfied: packaging in /usr/local/lib/python3.10/dist-packages (from datasets) (23.2)\n",
            "Requirement already satisfied: pyyaml>=5.1 in /usr/local/lib/python3.10/dist-packages (from datasets) (6.0.1)\n",
            "Requirement already satisfied: attrs>=17.3.0 in /usr/local/lib/python3.10/dist-packages (from aiohttp->datasets) (23.2.0)\n",
            "Requirement already satisfied: multidict<7.0,>=4.5 in /usr/local/lib/python3.10/dist-packages (from aiohttp->datasets) (6.0.4)\n",
            "Requirement already satisfied: yarl<2.0,>=1.0 in /usr/local/lib/python3.10/dist-packages (from aiohttp->datasets) (1.9.4)\n",
            "Requirement already satisfied: frozenlist>=1.1.1 in /usr/local/lib/python3.10/dist-packages (from aiohttp->datasets) (1.4.1)\n",
            "Requirement already satisfied: aiosignal>=1.1.2 in /usr/local/lib/python3.10/dist-packages (from aiohttp->datasets) (1.3.1)\n",
            "Requirement already satisfied: async-timeout<5.0,>=4.0 in /usr/local/lib/python3.10/dist-packages (from aiohttp->datasets) (4.0.3)\n",
            "Requirement already satisfied: typing-extensions>=3.7.4.3 in /usr/local/lib/python3.10/dist-packages (from huggingface-hub>=0.19.4->datasets) (4.5.0)\n",
            "Requirement already satisfied: charset-normalizer<4,>=2 in /usr/local/lib/python3.10/dist-packages (from requests>=2.19.0->datasets) (3.3.2)\n",
            "Requirement already satisfied: idna<4,>=2.5 in /usr/local/lib/python3.10/dist-packages (from requests>=2.19.0->datasets) (3.6)\n",
            "Requirement already satisfied: urllib3<3,>=1.21.1 in /usr/local/lib/python3.10/dist-packages (from requests>=2.19.0->datasets) (2.0.7)\n",
            "Requirement already satisfied: certifi>=2017.4.17 in /usr/local/lib/python3.10/dist-packages (from requests>=2.19.0->datasets) (2023.11.17)\n",
            "Requirement already satisfied: python-dateutil>=2.8.1 in /usr/local/lib/python3.10/dist-packages (from pandas->datasets) (2.8.2)\n",
            "Requirement already satisfied: pytz>=2020.1 in /usr/local/lib/python3.10/dist-packages (from pandas->datasets) (2023.3.post1)\n",
            "Requirement already satisfied: six>=1.5 in /usr/local/lib/python3.10/dist-packages (from python-dateutil>=2.8.1->pandas->datasets) (1.16.0)\n"
          ]
        }
      ],
      "source": [
        "!pip install transformers\n",
        "!pip install pandas==1.5.3\n",
        "!pip install datasets"
      ]
    },
    {
      "cell_type": "code",
      "execution_count": null,
      "metadata": {},
      "outputs": [],
      "source": [
        "HF_TOKEN=123"
      ]
    },
    {
      "cell_type": "code",
      "execution_count": null,
      "metadata": {
        "id": "XsnS_HPB-vtr"
      },
      "outputs": [],
      "source": [
        "import transformers\n",
        "import pandas as pd\n",
        "import matplotlib.pyplot as plt\n",
        "import numpy as np\n",
        "from transformers import AutoTokenizer, AutoModelForCausalLM\n",
        "from datasets import load_dataset\n",
        "from sklearn.model_selection import train_test_split"
      ]
    },
    {
      "cell_type": "code",
      "execution_count": null,
      "metadata": {
        "id": "QgIilZ4--4ui"
      },
      "outputs": [],
      "source": [
        "save_to_hub=True\n",
        "new_repo=False\n",
        "\n",
        "source_modelname=\"roneneldan/TinyStories-2Layers-33M\"\n",
        "modelpath = '/kaggle/working/'\n",
        "datapath_scraped = \"/kaggle/input/wholesomegreentexts-deduplicated/deduplicated_verified.csv\"\n",
        "datapath_generated = \"/kaggle/input/generated-greentexts/generated.csv\"\n",
        "data_path_huggingface = \"maxmyn/wholesome_greentext_239k\"\n",
        "SAVE_MODEL_NAME=\"maxmyn/tiny-all-wholesome-greentexts-2Layer-33M\"\n",
        "train_data_size =.9"
      ]
    },
    {
      "cell_type": "code",
      "execution_count": null,
      "metadata": {
        "execution": {
          "iopub.execute_input": "2024-01-14T14:24:38.834482Z",
          "iopub.status.busy": "2024-01-14T14:24:38.834100Z",
          "iopub.status.idle": "2024-01-14T14:24:39.953208Z",
          "shell.execute_reply": "2024-01-14T14:24:39.951925Z",
          "shell.execute_reply.started": "2024-01-14T14:24:38.834446Z"
        },
        "id": "Nu4o6EAQ-cKq",
        "trusted": true
      },
      "outputs": [],
      "source": [
        "if new_repo:\n",
        "    from huggingface_hub import create_repo\n",
        "    create_repo(SAVE_MODEL_NAME, token=HF_TOKEN)"
      ]
    },
    {
      "cell_type": "code",
      "execution_count": null,
      "metadata": {
        "colab": {
          "base_uri": "https://localhost:8080/"
        },
        "id": "qXVpaTgH_PPO",
        "outputId": "83222030-ce42-49dd-bcae-91249306bdbc"
      },
      "outputs": [
        {
          "name": "stderr",
          "output_type": "stream",
          "text": [
            "/usr/local/lib/python3.10/dist-packages/huggingface_hub/utils/_token.py:88: UserWarning: \n",
            "The secret `HF_TOKEN` does not exist in your Colab secrets.\n",
            "To authenticate with the Hugging Face Hub, create a token in your settings tab (https://huggingface.co/settings/tokens), set it as secret in your Google Colab and restart your session.\n",
            "You will be able to reuse this secret in all of your notebooks.\n",
            "Please note that authentication is recommended but still optional to access public models or datasets.\n",
            "  warnings.warn(\n"
          ]
        }
      ],
      "source": [
        "tokenizer = AutoTokenizer.from_pretrained(source_modelname)\n",
        "gpt = AutoModelForCausalLM.from_pretrained(source_modelname)"
      ]
    },
    {
      "cell_type": "code",
      "execution_count": null,
      "metadata": {
        "execution": {
          "iopub.execute_input": "2024-01-14T14:26:21.166384Z",
          "iopub.status.busy": "2024-01-14T14:26:21.165768Z",
          "iopub.status.idle": "2024-01-14T14:26:23.065886Z",
          "shell.execute_reply": "2024-01-14T14:26:23.064963Z",
          "shell.execute_reply.started": "2024-01-14T14:26:21.166350Z"
        },
        "id": "8c2ETdUa-cKq",
        "trusted": true
      },
      "outputs": [],
      "source": [
        "dataset = load_dataset(data_path_huggingface)\n",
        "data = pd.DataFrame(dataset['train']) #There is only the `train` data on HF, no tts.\n",
        "train_data, test_data = train_test_split(data, test_size=1-train_data_size)\n"
      ]
    },
    {
      "cell_type": "code",
      "execution_count": null,
      "metadata": {
        "colab": {
          "base_uri": "https://localhost:8080/",
          "height": 35
        },
        "execution": {
          "iopub.execute_input": "2024-01-14T14:26:40.257044Z",
          "iopub.status.busy": "2024-01-14T14:26:40.256758Z",
          "iopub.status.idle": "2024-01-14T14:26:40.263119Z",
          "shell.execute_reply": "2024-01-14T14:26:40.262030Z",
          "shell.execute_reply.started": "2024-01-14T14:26:40.257019Z"
        },
        "id": "_wcElkpz-cKq",
        "outputId": "e23d8d76-cf56-484c-ab5a-fad832f3b602",
        "trusted": true
      },
      "outputs": [
        {
          "data": {
            "application/vnd.google.colaboratory.intrinsic+json": {
              "type": "string"
            },
            "text/plain": [
              "'<|endoftext|>'"
            ]
          },
          "execution_count": 8,
          "metadata": {},
          "output_type": "execute_result"
        }
      ],
      "source": [
        "tokenizer.pad_token = tokenizer.eos_token\n",
        "tokenizer.pad_token"
      ]
    },
    {
      "cell_type": "code",
      "execution_count": null,
      "metadata": {
        "execution": {
          "iopub.execute_input": "2024-01-14T14:26:40.264542Z",
          "iopub.status.busy": "2024-01-14T14:26:40.264224Z",
          "iopub.status.idle": "2024-01-14T14:26:40.275116Z",
          "shell.execute_reply": "2024-01-14T14:26:40.274385Z",
          "shell.execute_reply.started": "2024-01-14T14:26:40.264518Z"
        },
        "id": "kdu42kfR-cKq",
        "trusted": true
      },
      "outputs": [],
      "source": [
        "# Training Parameters\n",
        "num_epochs = 7\n",
        "\n",
        "lr = 1e-5\n",
        "wd = 0.1\n",
        "adam_beta1 = 0.9\n",
        "adam_beta2 = 0.95\n",
        "context_length = 512\n",
        "batch_size = 8\n",
        "gradient_accumulation_steps = 16"
      ]
    },
    {
      "cell_type": "code",
      "execution_count": null,
      "metadata": {
        "colab": {
          "base_uri": "https://localhost:8080/"
        },
        "execution": {
          "iopub.execute_input": "2024-01-14T14:26:40.304741Z",
          "iopub.status.busy": "2024-01-14T14:26:40.304098Z",
          "iopub.status.idle": "2024-01-14T14:26:58.559147Z",
          "shell.execute_reply": "2024-01-14T14:26:58.558325Z",
          "shell.execute_reply.started": "2024-01-14T14:26:40.304708Z"
        },
        "id": "7RsiC9S1-cKq",
        "outputId": "b78dee54-3c1e-45b0-fc22-13380f34ef78",
        "trusted": true
      },
      "outputs": [
        {
          "name": "stderr",
          "output_type": "stream",
          "text": [
            "Token indices sequence length is longer than the specified maximum sequence length for this model (8271586 > 2048). Running this sequence through the model will result in indexing errors\n"
          ]
        }
      ],
      "source": [
        "from torch.utils.data import Dataset\n",
        "from torch.utils.data import DataLoader\n",
        "\n",
        "class CSVDataset(Dataset):\n",
        "    def __init__(self, pd_dataframe, tokenizer, max_length=512):\n",
        "        self.tokenizer = tokenizer\n",
        "        self.max_length = max_length\n",
        "        sequence_start_token = \"<|4chanGtxStart|>\"\n",
        "        separator = str(tokenizer.eos_token) + sequence_start_token\n",
        "        concatenated_text = separator.join([gtx.lower() for gtx in pd_dataframe['greentexts'].tolist()])\n",
        "        self.chunks = self._split_into_chunks(concatenated_text, sequence_start_token)\n",
        "\n",
        "    def _split_into_chunks(self, text, sequence_start_token):\n",
        "        tokens = self.tokenizer.tokenize(text) #returns list of tokens\n",
        "        chunk_size = self.max_length - 1 - len(self.tokenizer.tokenize(sequence_start_token))  # -1 for <endofText> token\n",
        "        return [tokens[i:i + chunk_size] for i in range(0, len(tokens), chunk_size)]\n",
        "\n",
        "    def __len__(self):\n",
        "        return len(self.chunks)\n",
        "\n",
        "    def __getitem__(self, idx):\n",
        "        chunk = self.chunks[idx]\n",
        "        # Join the tokens and add the endoftext token\n",
        "        chunk_text = self.tokenizer.convert_tokens_to_string(chunk) + tokenizer.eos_token\n",
        "        inputs = self.tokenizer(chunk_text, max_length=self.max_length, padding='max_length', truncation=True, return_tensors=\"pt\")\n",
        "        input_ids = inputs['input_ids'].squeeze(0)  # Remove batch dimension\n",
        "        attention_mask = inputs['attention_mask'].squeeze(0)\n",
        "        return {'input_ids': input_ids, 'attention_mask': attention_mask}\n",
        "\n",
        "train_dataset = CSVDataset(train_data, tokenizer, max_length=context_length)\n",
        "test_dataset = CSVDataset(test_data, tokenizer, max_length=context_length)\n",
        "\n",
        "train_dataloader = DataLoader(train_dataset, shuffle=True, batch_size=batch_size)\n",
        "test_dataloader = DataLoader(test_dataset, shuffle=True, batch_size=batch_size)"
      ]
    },
    {
      "cell_type": "code",
      "execution_count": null,
      "metadata": {
        "id": "FXWGGUxb_vJP"
      },
      "outputs": [],
      "source": [
        "def print_gpu_memory():\n",
        "    allocated = torch.cuda.memory_allocated()\n",
        "    reserved = torch.cuda.memory_reserved()\n",
        "    print(f\"Allocated memory: {allocated / 1024**3:.4f} GB\")\n",
        "    print(f\"Reserved memory: {reserved / 1024**3:.4f} GB\")"
      ]
    },
    {
      "cell_type": "code",
      "execution_count": null,
      "metadata": {
        "execution": {
          "iopub.execute_input": "2024-01-14T14:26:58.560759Z",
          "iopub.status.busy": "2024-01-14T14:26:58.560409Z",
          "iopub.status.idle": "2024-01-14T16:07:27.259982Z",
          "shell.execute_reply": "2024-01-14T16:07:27.259037Z",
          "shell.execute_reply.started": "2024-01-14T14:26:58.560726Z"
        },
        "id": "9yR9ZP53-cKr",
        "trusted": true
      },
      "outputs": [],
      "source": [
        "import torch\n",
        "import torch.nn.functional as F\n",
        "from torch.optim import Adam\n",
        "from tqdm.auto import tqdm\n",
        "from torch.cuda.amp import GradScaler, autocast\n",
        "import gc\n",
        "\n",
        "device = 'cuda' if torch.cuda.is_available() else 'cpu'\n",
        "\n",
        "def training_loop(gpt, train_dataloader, test_dataloader, num_epochs):\n",
        "  train_losses = []\n",
        "  test_losses = []\n",
        "\n",
        "\n",
        "  gpt.to(device)\n",
        "  scaler = GradScaler()\n",
        "\n",
        "  num_training_steps = num_epochs * len(train_dataloader)\n",
        "  progress_bar = tqdm(range(num_training_steps), desc='Training Progress')\n",
        "\n",
        "  # Setup optimizer with the new hyperparameters\n",
        "  optimizer = Adam(gpt.parameters(), lr=lr, betas=(adam_beta1, adam_beta2), weight_decay=wd)\n",
        "  optimizer.zero_grad()\n",
        "  torch.cuda.empty_cache()\n",
        "\n",
        "\n",
        "  for epoch in range(num_epochs):\n",
        "      gpt.train()\n",
        "      train_loss = 0\n",
        "      for step, batch in enumerate(train_dataloader):\n",
        "          batch = {k: v.to(device) for k, v in batch.items()}\n",
        "          with autocast():\n",
        "              out = gpt(**batch)\n",
        "              loss = F.cross_entropy(out.logits[:, :-1, :].flatten(0, -2), batch['input_ids'][:, 1:].flatten(), reduction='mean', label_smoothing=0.1)\n",
        "          scaler.scale(loss).backward()\n",
        "\n",
        "          # Step the optimizer every 'gradient_accumulation_steps' steps\n",
        "          if (step + 1) % gradient_accumulation_steps == 0:\n",
        "              for param in gpt.parameters():\n",
        "                  param.grad /= gradient_accumulation_steps\n",
        "              scaler.step(optimizer)\n",
        "              scaler.update()\n",
        "              optimizer.zero_grad()\n",
        "\n",
        "\n",
        "          train_loss += loss.item()\n",
        "          del loss, out\n",
        "          progress_bar.update(1)\n",
        "\n",
        "      avg_train_loss = train_loss / len(train_dataloader)\n",
        "      train_losses.append(avg_train_loss)\n",
        "\n",
        "      gpt.eval()\n",
        "      test_loss = 0\n",
        "      with torch.no_grad():\n",
        "          for batch in test_dataloader:\n",
        "              batch = {k: v.to(device) for k, v in batch.items()}\n",
        "              out = gpt(**batch)\n",
        "              loss = F.cross_entropy(out.logits[:, :-1, :].flatten(0, -2), batch['input_ids'][:, 1:].flatten(), reduction='mean', label_smoothing=0.1)\n",
        "              test_loss += loss.item()\n",
        "      avg_test_loss = test_loss / len(test_dataloader)\n",
        "      test_losses.append(avg_test_loss)\n",
        "\n",
        "      torch.cuda.empty_cache()\n",
        "      gc.collect()\n",
        "\n",
        "\n",
        "      # Update progress bar\n",
        "      progress_bar.set_description(f\"Epoch {epoch+1}/{num_epochs} - Loss: {avg_train_loss:.4f}\")\n",
        "      print(f\"Epoch {epoch+1}/{num_epochs} - Train Loss: {avg_train_loss:.4f}, Test Loss: {avg_test_loss:.4f}\")\n",
        "      print_gpu_memory()\n",
        "\n",
        "  return gpt, train_losses, test_losses\n",
        "\n"
      ]
    },
    {
      "cell_type": "code",
      "execution_count": null,
      "metadata": {
        "id": "WCGqNr5i3zV2"
      },
      "outputs": [],
      "source": [
        "def plot_loss_curve(train_losses, test_losses):\n",
        "  plt.plot(train_losses, label='Training Loss')\n",
        "  plt.plot(test_losses, label='Testing Loss')\n",
        "  plt.xlabel('Epochs')\n",
        "  plt.ylabel('Loss')\n",
        "  plt.legend()\n",
        "  plt.show()\n"
      ]
    },
    {
      "cell_type": "code",
      "execution_count": null,
      "metadata": {
        "colab": {
          "base_uri": "https://localhost:8080/",
          "height": 901,
          "referenced_widgets": [
            "8da0e53890b243daad2709d95ce0f596",
            "8db8c4729bfb4e9fa4ce1ba8af46f93e",
            "01a9c27d48934bfda50c7fe251bb34dd",
            "7d4f9259fa5540ccad54c5eb0553237e",
            "0a1c835af4ba4505aafae62328c12a5f",
            "4c1e4b2b7b11426084a73e6e73f73047",
            "8f31ecf525b845ac876197b1a1dfcb38",
            "64d0a2a187bc41a599b2e185d2686d7d",
            "c41fcb6187b44389ad7b21a884c725e2",
            "4b9ef235de2741c2850387000c3b7f40",
            "9dfe8235d58d4351bcdcdf3a6cff5c61"
          ]
        },
        "id": "QMHtXogI3pUx",
        "outputId": "2be95f76-befa-4a47-e98e-9f22dddbdb52"
      },
      "outputs": [
        {
          "data": {
            "application/vnd.jupyter.widget-view+json": {
              "model_id": "8da0e53890b243daad2709d95ce0f596",
              "version_major": 2,
              "version_minor": 0
            },
            "text/plain": [
              "Training Progress:   0%|          | 0/14420 [00:00<?, ?it/s]"
            ]
          },
          "metadata": {},
          "output_type": "display_data"
        },
        {
          "name": "stdout",
          "output_type": "stream",
          "text": [
            "Epoch 1/7 - Train Loss: 5.5410, Test Loss: 4.7823\n",
            "Allocated memory: 1.9229 GB\n",
            "Reserved memory: 3.1758 GB\n",
            "Epoch 2/7 - Train Loss: 4.5055, Test Loss: 4.2749\n",
            "Allocated memory: 1.9229 GB\n",
            "Reserved memory: 2.7988 GB\n",
            "Epoch 3/7 - Train Loss: 4.1390, Test Loss: 4.0483\n",
            "Allocated memory: 1.9229 GB\n",
            "Reserved memory: 2.8301 GB\n",
            "Epoch 4/7 - Train Loss: 4.0023, Test Loss: 3.9693\n",
            "Allocated memory: 1.9229 GB\n",
            "Reserved memory: 2.7988 GB\n",
            "Epoch 5/7 - Train Loss: 3.9470, Test Loss: 3.9323\n",
            "Allocated memory: 1.9229 GB\n",
            "Reserved memory: 2.8613 GB\n",
            "Epoch 6/7 - Train Loss: 3.9208, Test Loss: 3.9154\n",
            "Allocated memory: 1.9229 GB\n",
            "Reserved memory: 2.8613 GB\n",
            "Epoch 7/7 - Train Loss: 3.9103, Test Loss: 3.9116\n",
            "Allocated memory: 1.9229 GB\n",
            "Reserved memory: 2.8613 GB\n",
            "train_losses [5.540976654441612, 4.505535437991318, 4.139035057095648, 4.002275754757298, 3.947030690457057, 3.920778923242995, 3.9102927011193582]\n",
            "test_losses [4.782302831458212, 4.274932107550608, 4.048279240662354, 3.969264251175926, 3.93227776585708, 3.9153910901348663, 3.9116456269176765]\n"
          ]
        },
        {
          "data": {
            "image/png": "[encoded data removed]",
            "text/plain": [
              "<Figure size 640x480 with 1 Axes>"
            ]
          },
          "metadata": {},
          "output_type": "display_data"
        }
      ],
      "source": [
        "gpt, train_losses, test_losses = training_loop(gpt, train_dataloader, test_dataloader, num_epochs)\n",
        "print(\"train_losses\", train_losses)\n",
        "print(\"test_losses\", test_losses)\n",
        "plot_loss_curve(train_losses, test_losses)"
      ]
    },
    {
      "cell_type": "code",
      "execution_count": null,
      "metadata": {
        "colab": {
          "base_uri": "https://localhost:8080/"
        },
        "execution": {
          "iopub.execute_input": "2024-01-14T16:07:27.558092Z",
          "iopub.status.busy": "2024-01-14T16:07:27.557752Z",
          "iopub.status.idle": "2024-01-14T16:07:29.647290Z",
          "shell.execute_reply": "2024-01-14T16:07:29.646397Z",
          "shell.execute_reply.started": "2024-01-14T16:07:27.558058Z"
        },
        "id": "r7y9SqDO-cKr",
        "outputId": "f686701d-8d6e-48e9-b28d-2bc461540ae1",
        "trusted": true
      },
      "outputs": [
        {
          "name": "stderr",
          "output_type": "stream",
          "text": [
            "Setting `pad_token_id` to `eos_token_id`:50256 for open-end generation.\n",
            "Setting `pad_token_id` to `eos_token_id`:50256 for open-end generation.\n",
            "Setting `pad_token_id` to `eos_token_id`:50256 for open-end generation.\n"
          ]
        },
        {
          "name": "stdout",
          "output_type": "stream",
          "text": [
            "<|4chanGtxStart|> try to save a toy car\n",
            "Featuresshadowinging it\n",
            "> become as a hero<|endoftext|>\n",
            "---\n",
            "<|4chanGtxStart|> see a magical transformation\n",
            "> discover a wizard\n",
            "> make an enchanted lamp that grants you one of your powers\n",
            "> have the best luck<|endoftext|>\n",
            "---\n"
          ]
        },
        {
          "name": "stderr",
          "output_type": "stream",
          "text": [
            "Setting `pad_token_id` to `eos_token_id`:50256 for open-end generation.\n",
            "Setting `pad_token_id` to `eos_token_id`:50256 for open-end generation.\n",
            "Setting `pad_token_id` to `eos_token_id`:50256 for open-end generation.\n"
          ]
        },
        {
          "name": "stdout",
          "output_type": "stream",
          "text": [
            "<|4chanGtxStart|> try to set out a new DVD player\n",
            "> it plays for hours\n",
            "> it says, 'you'll have all your favorite video'\n",
            "> thank you tablet<|endoftext|>\n",
            "---\n",
            "<|4chanGtxStart|> find a secret passage to slay of the jungle\n",
            "> discover magical creatures that lives in caves\n",
            "> become their own and never want<|endoftext|>\n",
            "---\n",
            "<|4chanGtxStart|> be me\n",
            "> find a spaceship land where we meet alien friends and become friends with unexpected adventure in the galaxy<|endoftext|>\n",
            "---\n"
          ]
        },
        {
          "name": "stderr",
          "output_type": "stream",
          "text": [
            "Setting `pad_token_id` to `eos_token_id`:50256 for open-end generation.\n",
            "Setting `pad_token_id` to `eos_token_id`:50256 for open-end generation.\n",
            "Setting `pad_token_id` to `eos_token_id`:50256 for open-end generation.\n"
          ]
        },
        {
          "name": "stdout",
          "output_type": "stream",
          "text": [
            "<|4chanGtxStart|> embark on a magical journey through forests\n",
            "> discover the beautiful land of candy gardens, the forest giants and become the most precious king of the world.\n",
            "\n",
            "<|endoftext|>\n",
            "---\n",
            "<|4chanGtxStart|> receive a new coloring app\n",
            "> start drawing with colorful pictures on the paper\n",
            "> thank you paper is a masterpiece<|endoftext|>\n",
            "---\n",
            "<|4chanGtxStart|> be in a new restaurant\n",
            "> eat pizza with friends\n",
            "> feel like the pizza maker<|endoftext|>\n",
            "---\n"
          ]
        },
        {
          "name": "stderr",
          "output_type": "stream",
          "text": [
            "Setting `pad_token_id` to `eos_token_id`:50256 for open-end generation.\n",
            "Setting `pad_token_id` to `eos_token_id`:50256 for open-end generation.\n"
          ]
        },
        {
          "name": "stdout",
          "output_type": "stream",
          "text": [
            "<|4chanGtxStart|> embark on a magical adventure\n",
            "> find hidden treasure chest\n",
            "> keep it to its secret island<|endoftext|>\n",
            "---\n",
            "<|4chanGtxStart|> accidentally set off on a road trip with a map\n",
            "> stumble upon the wrong way to end up in the desert where it's actually a dangerous route for an actual adventurer journey.<|endoftext|>\n",
            "---\n"
          ]
        },
        {
          "name": "stderr",
          "output_type": "stream",
          "text": [
            "Setting `pad_token_id` to `eos_token_id`:50256 for open-end generation.\n",
            "Setting `pad_token_id` to `eos_token_id`:50256 for open-end generation.\n",
            "Setting `pad_token_id` to `eos_token_id`:50256 for open-end generation.\n"
          ]
        },
        {
          "name": "stdout",
          "output_type": "stream",
          "text": [
            "<|4chanGtxStart|> find an ancient map leading to a treasure chest\n",
            "> discover an old map that leads the map of all the treasure in the world<|endoftext|>\n",
            "---\n",
            "<|4chanGtxStart|> see a magical creature\n",
            "> he can turn into an ancient treehouse<|endoftext|>\n",
            "---\n",
            "<|4chanGtxStart|> find a magic wand\n",
            "> wishes for the future future<|endoftext|>\n",
            "---\n"
          ]
        },
        {
          "name": "stderr",
          "output_type": "stream",
          "text": [
            "Setting `pad_token_id` to `eos_token_id`:50256 for open-end generation.\n"
          ]
        },
        {
          "name": "stdout",
          "output_type": "stream",
          "text": [
            "<|4chanGtxStart|> see a big mansion\n",
            "> mansion with a huge giant cake and lots of candies and chocolateummies! It's not only a party<|endoftext|>\n",
            "---\n",
            "<|4chanGtxStart|> find a toy robot\n",
            "> it starts playing with me on my toys<|endoftext|>\n",
            "---\n"
          ]
        }
      ],
      "source": [
        "gpt.eval()\n",
        "for i in range(15):\n",
        "    with torch.no_grad():\n",
        "      prompt = tokenizer(\"<|4chanGtxStart|>\", truncation=True, padding=True, max_length=context_length, return_tensors='pt')\n",
        "      prompt = {key: value.to(device) for key, value in prompt.items()}\n",
        "      out = gpt.generate(**prompt, max_length=context_length, top_k=50, top_p=0.9, temperature=.8, do_sample=True, repetition_penalty = 1.2, num_beams=1)\n",
        "      print(tokenizer.decode(out[0]))\n",
        "    print(\"---\")"
      ]
    },
    {
      "cell_type": "code",
      "execution_count": null,
      "metadata": {
        "colab": {
          "base_uri": "https://localhost:8080/",
          "height": 49,
          "referenced_widgets": [
            "9ece4847f0294b03baa6f462b084495a",
            "afb33118674a4bc7ad8b6a8ff9aba7a6",
            "27f274338965497985e75ecfcf6f9cc4",
            "82900e9d7c8b4731973b04a6eaf6ba32",
            "472bc02ab0e64729a85a9aa359748cf4",
            "57e56c9e3baf41b1b4fac597bcc6e845",
            "3c1c9f1aed1a42eca06826fdbbc8bc72",
            "0bbba1b790c844318d99918be4e2129a",
            "397b262fc9d149a4857942d2b5ff2177",
            "b012b258f7804cb49399692c8650f04f",
            "75802fb2ef124fb8beb5d06ba667edb9"
          ]
        },
        "execution": {
          "iopub.execute_input": "2024-01-14T16:07:29.649532Z",
          "iopub.status.busy": "2024-01-14T16:07:29.648653Z",
          "iopub.status.idle": "2024-01-14T16:07:43.252545Z",
          "shell.execute_reply": "2024-01-14T16:07:43.251476Z",
          "shell.execute_reply.started": "2024-01-14T16:07:29.649495Z"
        },
        "id": "NwGN-7Kr-cKr",
        "outputId": "c469f0c3-628f-4353-c052-836e9675839c",
        "trusted": true
      },
      "outputs": [
        {
          "data": {
            "application/vnd.jupyter.widget-view+json": {
              "model_id": "9ece4847f0294b03baa6f462b084495a",
              "version_major": 2,
              "version_minor": 0
            },
            "text/plain": [
              "model.safetensors:   0%|          | 0.00/315M [00:00<?, ?B/s]"
            ]
          },
          "metadata": {},
          "output_type": "display_data"
        }
      ],
      "source": [
        "if save_to_hub:\n",
        "    gpt.push_to_hub(SAVE_MODEL_NAME, token=HF_TOKEN)\n",
        "    tokenizer.push_to_hub(SAVE_MODEL_NAME, token=HF_TOKEN)"
      ]
    },
    {
      "cell_type": "code",
      "execution_count": null,
      "metadata": {
        "id": "0PRYmGpA-cKr"
      },
      "outputs": [],
      "source": []
    }
  ],
  "metadata": {
    "accelerator": "GPU",
    "colab": {
      "gpuType": "T4",
      "provenance": []
    },
    "kaggle": {
      "accelerator": "gpu",
      "dataSources": [
        {
          "datasetId": 4272727,
          "sourceId": 7356556,
          "sourceType": "datasetVersion"
        },
        {
          "datasetId": 4272731,
          "sourceId": 7356561,
          "sourceType": "datasetVersion"
        },
        {
          "datasetId": 4278136,
          "sourceId": 7364336,
          "sourceType": "datasetVersion"
        }
      ],
      "dockerImageVersionId": 30636,
      "isGpuEnabled": true,
      "isInternetEnabled": true,
      "language": "python",
      "sourceType": "notebook"
    },
    "kernelspec": {
      "display_name": "Python 3",
      "name": "python3"
    },
    "language_info": {
      "codemirror_mode": {
        "name": "ipython",
        "version": 3
      },
      "file_extension": ".py",
      "mimetype": "text/x-python",
      "name": "python",
      "nbconvert_exporter": "python",
      "pygments_lexer": "ipython3",
      "version": "3.10.12"
    },
    "widgets": {
      "application/vnd.jupyter.widget-state+json": {
        "01a9c27d48934bfda50c7fe251bb34dd": {
          "model_module": "@jupyter-widgets/controls",
          "model_module_version": "1.5.0",
          "model_name": "FloatProgressModel",
          "state": {
            "_dom_classes": [],
            "_model_module": "@jupyter-widgets/controls",
            "_model_module_version": "1.5.0",
            "_model_name": "FloatProgressModel",
            "_view_count": null,
            "_view_module": "@jupyter-widgets/controls",
            "_view_module_version": "1.5.0",
            "_view_name": "ProgressView",
            "bar_style": "",
            "description": "",
            "description_tooltip": null,
            "layout": "IPY_MODEL_64d0a2a187bc41a599b2e185d2686d7d",
            "max": 14420,
            "min": 0,
            "orientation": "horizontal",
            "style": "IPY_MODEL_c41fcb6187b44389ad7b21a884c725e2",
            "value": 14420
          }
        },
        "09433905a1254ee8976974146e5602c8": {
          "model_module": "@jupyter-widgets/controls",
          "model_module_version": "1.5.0",
          "model_name": "DescriptionStyleModel",
          "state": {
            "_model_module": "@jupyter-widgets/controls",
            "_model_module_version": "1.5.0",
            "_model_name": "DescriptionStyleModel",
            "_view_count": null,
            "_view_module": "@jupyter-widgets/base",
            "_view_module_version": "1.2.0",
            "_view_name": "StyleView",
            "description_width": ""
          }
        },
        "0a1c835af4ba4505aafae62328c12a5f": {
          "model_module": "@jupyter-widgets/base",
          "model_module_version": "1.2.0",
          "model_name": "LayoutModel",
          "state": {
            "_model_module": "@jupyter-widgets/base",
            "_model_module_version": "1.2.0",
            "_model_name": "LayoutModel",
            "_view_count": null,
            "_view_module": "@jupyter-widgets/base",
            "_view_module_version": "1.2.0",
            "_view_name": "LayoutView",
            "align_content": null,
            "align_items": null,
            "align_self": null,
            "border": null,
            "bottom": null,
            "display": null,
            "flex": null,
            "flex_flow": null,
            "grid_area": null,
            "grid_auto_columns": null,
            "grid_auto_flow": null,
            "grid_auto_rows": null,
            "grid_column": null,
            "grid_gap": null,
            "grid_row": null,
            "grid_template_areas": null,
            "grid_template_columns": null,
            "grid_template_rows": null,
            "height": null,
            "justify_content": null,
            "justify_items": null,
            "left": null,
            "margin": null,
            "max_height": null,
            "max_width": null,
            "min_height": null,
            "min_width": null,
            "object_fit": null,
            "object_position": null,
            "order": null,
            "overflow": null,
            "overflow_x": null,
            "overflow_y": null,
            "padding": null,
            "right": null,
            "top": null,
            "visibility": null,
            "width": null
          }
        },
        "0b09eac17b9d47a8b115cf616690529a": {
          "model_module": "@jupyter-widgets/base",
          "model_module_version": "1.2.0",
          "model_name": "LayoutModel",
          "state": {
            "_model_module": "@jupyter-widgets/base",
            "_model_module_version": "1.2.0",
            "_model_name": "LayoutModel",
            "_view_count": null,
            "_view_module": "@jupyter-widgets/base",
            "_view_module_version": "1.2.0",
            "_view_name": "LayoutView",
            "align_content": null,
            "align_items": null,
            "align_self": null,
            "border": null,
            "bottom": null,
            "display": null,
            "flex": null,
            "flex_flow": null,
            "grid_area": null,
            "grid_auto_columns": null,
            "grid_auto_flow": null,
            "grid_auto_rows": null,
            "grid_column": null,
            "grid_gap": null,
            "grid_row": null,
            "grid_template_areas": null,
            "grid_template_columns": null,
            "grid_template_rows": null,
            "height": null,
            "justify_content": null,
            "justify_items": null,
            "left": null,
            "margin": null,
            "max_height": null,
            "max_width": null,
            "min_height": null,
            "min_width": null,
            "object_fit": null,
            "object_position": null,
            "order": null,
            "overflow": null,
            "overflow_x": null,
            "overflow_y": null,
            "padding": null,
            "right": null,
            "top": null,
            "visibility": null,
            "width": null
          }
        },
        "0bbba1b790c844318d99918be4e2129a": {
          "model_module": "@jupyter-widgets/base",
          "model_module_version": "1.2.0",
          "model_name": "LayoutModel",
          "state": {
            "_model_module": "@jupyter-widgets/base",
            "_model_module_version": "1.2.0",
            "_model_name": "LayoutModel",
            "_view_count": null,
            "_view_module": "@jupyter-widgets/base",
            "_view_module_version": "1.2.0",
            "_view_name": "LayoutView",
            "align_content": null,
            "align_items": null,
            "align_self": null,
            "border": null,
            "bottom": null,
            "display": null,
            "flex": null,
            "flex_flow": null,
            "grid_area": null,
            "grid_auto_columns": null,
            "grid_auto_flow": null,
            "grid_auto_rows": null,
            "grid_column": null,
            "grid_gap": null,
            "grid_row": null,
            "grid_template_areas": null,
            "grid_template_columns": null,
            "grid_template_rows": null,
            "height": null,
            "justify_content": null,
            "justify_items": null,
            "left": null,
            "margin": null,
            "max_height": null,
            "max_width": null,
            "min_height": null,
            "min_width": null,
            "object_fit": null,
            "object_position": null,
            "order": null,
            "overflow": null,
            "overflow_x": null,
            "overflow_y": null,
            "padding": null,
            "right": null,
            "top": null,
            "visibility": null,
            "width": null
          }
        },
        "2660fda2819f436cb76b967469f13417": {
          "model_module": "@jupyter-widgets/controls",
          "model_module_version": "1.5.0",
          "model_name": "HTMLModel",
          "state": {
            "_dom_classes": [],
            "_model_module": "@jupyter-widgets/controls",
            "_model_module_version": "1.5.0",
            "_model_name": "HTMLModel",
            "_view_count": null,
            "_view_module": "@jupyter-widgets/controls",
            "_view_module_version": "1.5.0",
            "_view_name": "HTMLView",
            "description": "",
            "description_tooltip": null,
            "layout": "IPY_MODEL_0b09eac17b9d47a8b115cf616690529a",
            "placeholder": "​",
            "style": "IPY_MODEL_9be5179f55d643c5b9da7fbc5c898696",
            "value": "\n<b>Pro Tip:</b> If you don't already have one, you can create a dedicated\n'notebooks' token with 'write' access, that you can then easily reuse for all\nnotebooks. </center>"
          }
        },
        "27f274338965497985e75ecfcf6f9cc4": {
          "model_module": "@jupyter-widgets/controls",
          "model_module_version": "1.5.0",
          "model_name": "FloatProgressModel",
          "state": {
            "_dom_classes": [],
            "_model_module": "@jupyter-widgets/controls",
            "_model_module_version": "1.5.0",
            "_model_name": "FloatProgressModel",
            "_view_count": null,
            "_view_module": "@jupyter-widgets/controls",
            "_view_module_version": "1.5.0",
            "_view_name": "ProgressView",
            "bar_style": "success",
            "description": "",
            "description_tooltip": null,
            "layout": "IPY_MODEL_0bbba1b790c844318d99918be4e2129a",
            "max": 314997856,
            "min": 0,
            "orientation": "horizontal",
            "style": "IPY_MODEL_397b262fc9d149a4857942d2b5ff2177",
            "value": 314997856
          }
        },
        "397b262fc9d149a4857942d2b5ff2177": {
          "model_module": "@jupyter-widgets/controls",
          "model_module_version": "1.5.0",
          "model_name": "ProgressStyleModel",
          "state": {
            "_model_module": "@jupyter-widgets/controls",
            "_model_module_version": "1.5.0",
            "_model_name": "ProgressStyleModel",
            "_view_count": null,
            "_view_module": "@jupyter-widgets/base",
            "_view_module_version": "1.2.0",
            "_view_name": "StyleView",
            "bar_color": null,
            "description_width": ""
          }
        },
        "3c1c9f1aed1a42eca06826fdbbc8bc72": {
          "model_module": "@jupyter-widgets/controls",
          "model_module_version": "1.5.0",
          "model_name": "DescriptionStyleModel",
          "state": {
            "_model_module": "@jupyter-widgets/controls",
            "_model_module_version": "1.5.0",
            "_model_name": "DescriptionStyleModel",
            "_view_count": null,
            "_view_module": "@jupyter-widgets/base",
            "_view_module_version": "1.2.0",
            "_view_name": "StyleView",
            "description_width": ""
          }
        },
        "472bc02ab0e64729a85a9aa359748cf4": {
          "model_module": "@jupyter-widgets/base",
          "model_module_version": "1.2.0",
          "model_name": "LayoutModel",
          "state": {
            "_model_module": "@jupyter-widgets/base",
            "_model_module_version": "1.2.0",
            "_model_name": "LayoutModel",
            "_view_count": null,
            "_view_module": "@jupyter-widgets/base",
            "_view_module_version": "1.2.0",
            "_view_name": "LayoutView",
            "align_content": null,
            "align_items": null,
            "align_self": null,
            "border": null,
            "bottom": null,
            "display": null,
            "flex": null,
            "flex_flow": null,
            "grid_area": null,
            "grid_auto_columns": null,
            "grid_auto_flow": null,
            "grid_auto_rows": null,
            "grid_column": null,
            "grid_gap": null,
            "grid_row": null,
            "grid_template_areas": null,
            "grid_template_columns": null,
            "grid_template_rows": null,
            "height": null,
            "justify_content": null,
            "justify_items": null,
            "left": null,
            "margin": null,
            "max_height": null,
            "max_width": null,
            "min_height": null,
            "min_width": null,
            "object_fit": null,
            "object_position": null,
            "order": null,
            "overflow": null,
            "overflow_x": null,
            "overflow_y": null,
            "padding": null,
            "right": null,
            "top": null,
            "visibility": null,
            "width": null
          }
        },
        "4b9ef235de2741c2850387000c3b7f40": {
          "model_module": "@jupyter-widgets/base",
          "model_module_version": "1.2.0",
          "model_name": "LayoutModel",
          "state": {
            "_model_module": "@jupyter-widgets/base",
            "_model_module_version": "1.2.0",
            "_model_name": "LayoutModel",
            "_view_count": null,
            "_view_module": "@jupyter-widgets/base",
            "_view_module_version": "1.2.0",
            "_view_name": "LayoutView",
            "align_content": null,
            "align_items": null,
            "align_self": null,
            "border": null,
            "bottom": null,
            "display": null,
            "flex": null,
            "flex_flow": null,
            "grid_area": null,
            "grid_auto_columns": null,
            "grid_auto_flow": null,
            "grid_auto_rows": null,
            "grid_column": null,
            "grid_gap": null,
            "grid_row": null,
            "grid_template_areas": null,
            "grid_template_columns": null,
            "grid_template_rows": null,
            "height": null,
            "justify_content": null,
            "justify_items": null,
            "left": null,
            "margin": null,
            "max_height": null,
            "max_width": null,
            "min_height": null,
            "min_width": null,
            "object_fit": null,
            "object_position": null,
            "order": null,
            "overflow": null,
            "overflow_x": null,
            "overflow_y": null,
            "padding": null,
            "right": null,
            "top": null,
            "visibility": null,
            "width": null
          }
        },
        "4c1e4b2b7b11426084a73e6e73f73047": {
          "model_module": "@jupyter-widgets/base",
          "model_module_version": "1.2.0",
          "model_name": "LayoutModel",
          "state": {
            "_model_module": "@jupyter-widgets/base",
            "_model_module_version": "1.2.0",
            "_model_name": "LayoutModel",
            "_view_count": null,
            "_view_module": "@jupyter-widgets/base",
            "_view_module_version": "1.2.0",
            "_view_name": "LayoutView",
            "align_content": null,
            "align_items": null,
            "align_self": null,
            "border": null,
            "bottom": null,
            "display": null,
            "flex": null,
            "flex_flow": null,
            "grid_area": null,
            "grid_auto_columns": null,
            "grid_auto_flow": null,
            "grid_auto_rows": null,
            "grid_column": null,
            "grid_gap": null,
            "grid_row": null,
            "grid_template_areas": null,
            "grid_template_columns": null,
            "grid_template_rows": null,
            "height": null,
            "justify_content": null,
            "justify_items": null,
            "left": null,
            "margin": null,
            "max_height": null,
            "max_width": null,
            "min_height": null,
            "min_width": null,
            "object_fit": null,
            "object_position": null,
            "order": null,
            "overflow": null,
            "overflow_x": null,
            "overflow_y": null,
            "padding": null,
            "right": null,
            "top": null,
            "visibility": null,
            "width": null
          }
        },
        "57e56c9e3baf41b1b4fac597bcc6e845": {
          "model_module": "@jupyter-widgets/base",
          "model_module_version": "1.2.0",
          "model_name": "LayoutModel",
          "state": {
            "_model_module": "@jupyter-widgets/base",
            "_model_module_version": "1.2.0",
            "_model_name": "LayoutModel",
            "_view_count": null,
            "_view_module": "@jupyter-widgets/base",
            "_view_module_version": "1.2.0",
            "_view_name": "LayoutView",
            "align_content": null,
            "align_items": null,
            "align_self": null,
            "border": null,
            "bottom": null,
            "display": null,
            "flex": null,
            "flex_flow": null,
            "grid_area": null,
            "grid_auto_columns": null,
            "grid_auto_flow": null,
            "grid_auto_rows": null,
            "grid_column": null,
            "grid_gap": null,
            "grid_row": null,
            "grid_template_areas": null,
            "grid_template_columns": null,
            "grid_template_rows": null,
            "height": null,
            "justify_content": null,
            "justify_items": null,
            "left": null,
            "margin": null,
            "max_height": null,
            "max_width": null,
            "min_height": null,
            "min_width": null,
            "object_fit": null,
            "object_position": null,
            "order": null,
            "overflow": null,
            "overflow_x": null,
            "overflow_y": null,
            "padding": null,
            "right": null,
            "top": null,
            "visibility": null,
            "width": null
          }
        },
        "63521ff8917847b9895f3185d7c87f36": {
          "model_module": "@jupyter-widgets/controls",
          "model_module_version": "1.5.0",
          "model_name": "ButtonModel",
          "state": {
            "_dom_classes": [],
            "_model_module": "@jupyter-widgets/controls",
            "_model_module_version": "1.5.0",
            "_model_name": "ButtonModel",
            "_view_count": null,
            "_view_module": "@jupyter-widgets/controls",
            "_view_module_version": "1.5.0",
            "_view_name": "ButtonView",
            "button_style": "",
            "description": "Login",
            "disabled": false,
            "icon": "",
            "layout": "IPY_MODEL_fa1af9e9794d459e979c8a9decd50ef7",
            "style": "IPY_MODEL_9b8f6525b5ef4e2c8a15606dec3e60e0",
            "tooltip": ""
          }
        },
        "64d0a2a187bc41a599b2e185d2686d7d": {
          "model_module": "@jupyter-widgets/base",
          "model_module_version": "1.2.0",
          "model_name": "LayoutModel",
          "state": {
            "_model_module": "@jupyter-widgets/base",
            "_model_module_version": "1.2.0",
            "_model_name": "LayoutModel",
            "_view_count": null,
            "_view_module": "@jupyter-widgets/base",
            "_view_module_version": "1.2.0",
            "_view_name": "LayoutView",
            "align_content": null,
            "align_items": null,
            "align_self": null,
            "border": null,
            "bottom": null,
            "display": null,
            "flex": null,
            "flex_flow": null,
            "grid_area": null,
            "grid_auto_columns": null,
            "grid_auto_flow": null,
            "grid_auto_rows": null,
            "grid_column": null,
            "grid_gap": null,
            "grid_row": null,
            "grid_template_areas": null,
            "grid_template_columns": null,
            "grid_template_rows": null,
            "height": null,
            "justify_content": null,
            "justify_items": null,
            "left": null,
            "margin": null,
            "max_height": null,
            "max_width": null,
            "min_height": null,
            "min_width": null,
            "object_fit": null,
            "object_position": null,
            "order": null,
            "overflow": null,
            "overflow_x": null,
            "overflow_y": null,
            "padding": null,
            "right": null,
            "top": null,
            "visibility": null,
            "width": null
          }
        },
        "711878ca823f4a6e8526b77edc40281e": {
          "model_module": "@jupyter-widgets/base",
          "model_module_version": "1.2.0",
          "model_name": "LayoutModel",
          "state": {
            "_model_module": "@jupyter-widgets/base",
            "_model_module_version": "1.2.0",
            "_model_name": "LayoutModel",
            "_view_count": null,
            "_view_module": "@jupyter-widgets/base",
            "_view_module_version": "1.2.0",
            "_view_name": "LayoutView",
            "align_content": null,
            "align_items": "center",
            "align_self": null,
            "border": null,
            "bottom": null,
            "display": "flex",
            "flex": null,
            "flex_flow": "column",
            "grid_area": null,
            "grid_auto_columns": null,
            "grid_auto_flow": null,
            "grid_auto_rows": null,
            "grid_column": null,
            "grid_gap": null,
            "grid_row": null,
            "grid_template_areas": null,
            "grid_template_columns": null,
            "grid_template_rows": null,
            "height": null,
            "justify_content": null,
            "justify_items": null,
            "left": null,
            "margin": null,
            "max_height": null,
            "max_width": null,
            "min_height": null,
            "min_width": null,
            "object_fit": null,
            "object_position": null,
            "order": null,
            "overflow": null,
            "overflow_x": null,
            "overflow_y": null,
            "padding": null,
            "right": null,
            "top": null,
            "visibility": null,
            "width": "50%"
          }
        },
        "75802fb2ef124fb8beb5d06ba667edb9": {
          "model_module": "@jupyter-widgets/controls",
          "model_module_version": "1.5.0",
          "model_name": "DescriptionStyleModel",
          "state": {
            "_model_module": "@jupyter-widgets/controls",
            "_model_module_version": "1.5.0",
            "_model_name": "DescriptionStyleModel",
            "_view_count": null,
            "_view_module": "@jupyter-widgets/base",
            "_view_module_version": "1.2.0",
            "_view_name": "StyleView",
            "description_width": ""
          }
        },
        "7d4f9259fa5540ccad54c5eb0553237e": {
          "model_module": "@jupyter-widgets/controls",
          "model_module_version": "1.5.0",
          "model_name": "HTMLModel",
          "state": {
            "_dom_classes": [],
            "_model_module": "@jupyter-widgets/controls",
            "_model_module_version": "1.5.0",
            "_model_name": "HTMLModel",
            "_view_count": null,
            "_view_module": "@jupyter-widgets/controls",
            "_view_module_version": "1.5.0",
            "_view_name": "HTMLView",
            "description": "",
            "description_tooltip": null,
            "layout": "IPY_MODEL_4b9ef235de2741c2850387000c3b7f40",
            "placeholder": "​",
            "style": "IPY_MODEL_9dfe8235d58d4351bcdcdf3a6cff5c61",
            "value": " 14420/14420 [1:07:33&lt;00:00,  4.26it/s]"
          }
        },
        "82900e9d7c8b4731973b04a6eaf6ba32": {
          "model_module": "@jupyter-widgets/controls",
          "model_module_version": "1.5.0",
          "model_name": "HTMLModel",
          "state": {
            "_dom_classes": [],
            "_model_module": "@jupyter-widgets/controls",
            "_model_module_version": "1.5.0",
            "_model_name": "HTMLModel",
            "_view_count": null,
            "_view_module": "@jupyter-widgets/controls",
            "_view_module_version": "1.5.0",
            "_view_name": "HTMLView",
            "description": "",
            "description_tooltip": null,
            "layout": "IPY_MODEL_b012b258f7804cb49399692c8650f04f",
            "placeholder": "​",
            "style": "IPY_MODEL_75802fb2ef124fb8beb5d06ba667edb9",
            "value": " 315M/315M [00:10&lt;00:00, 36.8MB/s]"
          }
        },
        "8da0e53890b243daad2709d95ce0f596": {
          "model_module": "@jupyter-widgets/controls",
          "model_module_version": "1.5.0",
          "model_name": "HBoxModel",
          "state": {
            "_dom_classes": [],
            "_model_module": "@jupyter-widgets/controls",
            "_model_module_version": "1.5.0",
            "_model_name": "HBoxModel",
            "_view_count": null,
            "_view_module": "@jupyter-widgets/controls",
            "_view_module_version": "1.5.0",
            "_view_name": "HBoxView",
            "box_style": "",
            "children": [
              "IPY_MODEL_8db8c4729bfb4e9fa4ce1ba8af46f93e",
              "IPY_MODEL_01a9c27d48934bfda50c7fe251bb34dd",
              "IPY_MODEL_7d4f9259fa5540ccad54c5eb0553237e"
            ],
            "layout": "IPY_MODEL_0a1c835af4ba4505aafae62328c12a5f"
          }
        },
        "8db8c4729bfb4e9fa4ce1ba8af46f93e": {
          "model_module": "@jupyter-widgets/controls",
          "model_module_version": "1.5.0",
          "model_name": "HTMLModel",
          "state": {
            "_dom_classes": [],
            "_model_module": "@jupyter-widgets/controls",
            "_model_module_version": "1.5.0",
            "_model_name": "HTMLModel",
            "_view_count": null,
            "_view_module": "@jupyter-widgets/controls",
            "_view_module_version": "1.5.0",
            "_view_name": "HTMLView",
            "description": "",
            "description_tooltip": null,
            "layout": "IPY_MODEL_4c1e4b2b7b11426084a73e6e73f73047",
            "placeholder": "​",
            "style": "IPY_MODEL_8f31ecf525b845ac876197b1a1dfcb38",
            "value": "Epoch 7/7 - Loss: 3.9103: 100%"
          }
        },
        "8f31ecf525b845ac876197b1a1dfcb38": {
          "model_module": "@jupyter-widgets/controls",
          "model_module_version": "1.5.0",
          "model_name": "DescriptionStyleModel",
          "state": {
            "_model_module": "@jupyter-widgets/controls",
            "_model_module_version": "1.5.0",
            "_model_name": "DescriptionStyleModel",
            "_view_count": null,
            "_view_module": "@jupyter-widgets/base",
            "_view_module_version": "1.2.0",
            "_view_name": "StyleView",
            "description_width": ""
          }
        },
        "907d7cd3489e46818cb9626ce685a09c": {
          "model_module": "@jupyter-widgets/base",
          "model_module_version": "1.2.0",
          "model_name": "LayoutModel",
          "state": {
            "_model_module": "@jupyter-widgets/base",
            "_model_module_version": "1.2.0",
            "_model_name": "LayoutModel",
            "_view_count": null,
            "_view_module": "@jupyter-widgets/base",
            "_view_module_version": "1.2.0",
            "_view_name": "LayoutView",
            "align_content": null,
            "align_items": null,
            "align_self": null,
            "border": null,
            "bottom": null,
            "display": null,
            "flex": null,
            "flex_flow": null,
            "grid_area": null,
            "grid_auto_columns": null,
            "grid_auto_flow": null,
            "grid_auto_rows": null,
            "grid_column": null,
            "grid_gap": null,
            "grid_row": null,
            "grid_template_areas": null,
            "grid_template_columns": null,
            "grid_template_rows": null,
            "height": null,
            "justify_content": null,
            "justify_items": null,
            "left": null,
            "margin": null,
            "max_height": null,
            "max_width": null,
            "min_height": null,
            "min_width": null,
            "object_fit": null,
            "object_position": null,
            "order": null,
            "overflow": null,
            "overflow_x": null,
            "overflow_y": null,
            "padding": null,
            "right": null,
            "top": null,
            "visibility": null,
            "width": null
          }
        },
        "946b9bc371224a61b13b5e2e9b5760c3": {
          "model_module": "@jupyter-widgets/controls",
          "model_module_version": "1.5.0",
          "model_name": "PasswordModel",
          "state": {
            "_dom_classes": [],
            "_model_module": "@jupyter-widgets/controls",
            "_model_module_version": "1.5.0",
            "_model_name": "PasswordModel",
            "_view_count": null,
            "_view_module": "@jupyter-widgets/controls",
            "_view_module_version": "1.5.0",
            "_view_name": "PasswordView",
            "continuous_update": true,
            "description": "Token:",
            "description_tooltip": null,
            "disabled": false,
            "layout": "IPY_MODEL_a1de94d9ae1b4bfebaab8e4ec6a9c188",
            "placeholder": "​",
            "style": "IPY_MODEL_f76eeff88379451a81f03acf783b6dcc",
            "value": ""
          }
        },
        "99b34ebd53074aaaa0de44a3b4f2d79c": {
          "model_module": "@jupyter-widgets/controls",
          "model_module_version": "1.5.0",
          "model_name": "VBoxModel",
          "state": {
            "_dom_classes": [],
            "_model_module": "@jupyter-widgets/controls",
            "_model_module_version": "1.5.0",
            "_model_name": "VBoxModel",
            "_view_count": null,
            "_view_module": "@jupyter-widgets/controls",
            "_view_module_version": "1.5.0",
            "_view_name": "VBoxView",
            "box_style": "",
            "children": [
              "IPY_MODEL_a386a00da72045b599493f82d90b0df3",
              "IPY_MODEL_946b9bc371224a61b13b5e2e9b5760c3",
              "IPY_MODEL_9d26aabfd2984bda85f8c6976bca01ee",
              "IPY_MODEL_63521ff8917847b9895f3185d7c87f36",
              "IPY_MODEL_2660fda2819f436cb76b967469f13417"
            ],
            "layout": "IPY_MODEL_711878ca823f4a6e8526b77edc40281e"
          }
        },
        "9b8f6525b5ef4e2c8a15606dec3e60e0": {
          "model_module": "@jupyter-widgets/controls",
          "model_module_version": "1.5.0",
          "model_name": "ButtonStyleModel",
          "state": {
            "_model_module": "@jupyter-widgets/controls",
            "_model_module_version": "1.5.0",
            "_model_name": "ButtonStyleModel",
            "_view_count": null,
            "_view_module": "@jupyter-widgets/base",
            "_view_module_version": "1.2.0",
            "_view_name": "StyleView",
            "button_color": null,
            "font_weight": ""
          }
        },
        "9be5179f55d643c5b9da7fbc5c898696": {
          "model_module": "@jupyter-widgets/controls",
          "model_module_version": "1.5.0",
          "model_name": "DescriptionStyleModel",
          "state": {
            "_model_module": "@jupyter-widgets/controls",
            "_model_module_version": "1.5.0",
            "_model_name": "DescriptionStyleModel",
            "_view_count": null,
            "_view_module": "@jupyter-widgets/base",
            "_view_module_version": "1.2.0",
            "_view_name": "StyleView",
            "description_width": ""
          }
        },
        "9d26aabfd2984bda85f8c6976bca01ee": {
          "model_module": "@jupyter-widgets/controls",
          "model_module_version": "1.5.0",
          "model_name": "CheckboxModel",
          "state": {
            "_dom_classes": [],
            "_model_module": "@jupyter-widgets/controls",
            "_model_module_version": "1.5.0",
            "_model_name": "CheckboxModel",
            "_view_count": null,
            "_view_module": "@jupyter-widgets/controls",
            "_view_module_version": "1.5.0",
            "_view_name": "CheckboxView",
            "description": "Add token as git credential?",
            "description_tooltip": null,
            "disabled": false,
            "indent": true,
            "layout": "IPY_MODEL_907d7cd3489e46818cb9626ce685a09c",
            "style": "IPY_MODEL_f97ef9e0dcfe4fc19bef74c9539267a5",
            "value": true
          }
        },
        "9dfe8235d58d4351bcdcdf3a6cff5c61": {
          "model_module": "@jupyter-widgets/controls",
          "model_module_version": "1.5.0",
          "model_name": "DescriptionStyleModel",
          "state": {
            "_model_module": "@jupyter-widgets/controls",
            "_model_module_version": "1.5.0",
            "_model_name": "DescriptionStyleModel",
            "_view_count": null,
            "_view_module": "@jupyter-widgets/base",
            "_view_module_version": "1.2.0",
            "_view_name": "StyleView",
            "description_width": ""
          }
        },
        "9ece4847f0294b03baa6f462b084495a": {
          "model_module": "@jupyter-widgets/controls",
          "model_module_version": "1.5.0",
          "model_name": "HBoxModel",
          "state": {
            "_dom_classes": [],
            "_model_module": "@jupyter-widgets/controls",
            "_model_module_version": "1.5.0",
            "_model_name": "HBoxModel",
            "_view_count": null,
            "_view_module": "@jupyter-widgets/controls",
            "_view_module_version": "1.5.0",
            "_view_name": "HBoxView",
            "box_style": "",
            "children": [
              "IPY_MODEL_afb33118674a4bc7ad8b6a8ff9aba7a6",
              "IPY_MODEL_27f274338965497985e75ecfcf6f9cc4",
              "IPY_MODEL_82900e9d7c8b4731973b04a6eaf6ba32"
            ],
            "layout": "IPY_MODEL_472bc02ab0e64729a85a9aa359748cf4"
          }
        },
        "a1de94d9ae1b4bfebaab8e4ec6a9c188": {
          "model_module": "@jupyter-widgets/base",
          "model_module_version": "1.2.0",
          "model_name": "LayoutModel",
          "state": {
            "_model_module": "@jupyter-widgets/base",
            "_model_module_version": "1.2.0",
            "_model_name": "LayoutModel",
            "_view_count": null,
            "_view_module": "@jupyter-widgets/base",
            "_view_module_version": "1.2.0",
            "_view_name": "LayoutView",
            "align_content": null,
            "align_items": null,
            "align_self": null,
            "border": null,
            "bottom": null,
            "display": null,
            "flex": null,
            "flex_flow": null,
            "grid_area": null,
            "grid_auto_columns": null,
            "grid_auto_flow": null,
            "grid_auto_rows": null,
            "grid_column": null,
            "grid_gap": null,
            "grid_row": null,
            "grid_template_areas": null,
            "grid_template_columns": null,
            "grid_template_rows": null,
            "height": null,
            "justify_content": null,
            "justify_items": null,
            "left": null,
            "margin": null,
            "max_height": null,
            "max_width": null,
            "min_height": null,
            "min_width": null,
            "object_fit": null,
            "object_position": null,
            "order": null,
            "overflow": null,
            "overflow_x": null,
            "overflow_y": null,
            "padding": null,
            "right": null,
            "top": null,
            "visibility": null,
            "width": null
          }
        },
        "a386a00da72045b599493f82d90b0df3": {
          "model_module": "@jupyter-widgets/controls",
          "model_module_version": "1.5.0",
          "model_name": "HTMLModel",
          "state": {
            "_dom_classes": [],
            "_model_module": "@jupyter-widgets/controls",
            "_model_module_version": "1.5.0",
            "_model_name": "HTMLModel",
            "_view_count": null,
            "_view_module": "@jupyter-widgets/controls",
            "_view_module_version": "1.5.0",
            "_view_name": "HTMLView",
            "description": "",
            "description_tooltip": null,
            "layout": "IPY_MODEL_b96cf3e8069c464c96edb9bec75b9895",
            "placeholder": "​",
            "style": "IPY_MODEL_09433905a1254ee8976974146e5602c8",
            "value": "<center> <img\nsrc=https://huggingface.co/front/assets/huggingface_logo-noborder.svg\nalt='Hugging Face'> <br> Copy a token from <a\nhref=\"https://huggingface.co/settings/tokens\" target=\"_blank\">your Hugging Face\ntokens page</a> and paste it below. <br> Immediately click login after copying\nyour token or it might be stored in plain text in this notebook file. </center>"
          }
        },
        "afb33118674a4bc7ad8b6a8ff9aba7a6": {
          "model_module": "@jupyter-widgets/controls",
          "model_module_version": "1.5.0",
          "model_name": "HTMLModel",
          "state": {
            "_dom_classes": [],
            "_model_module": "@jupyter-widgets/controls",
            "_model_module_version": "1.5.0",
            "_model_name": "HTMLModel",
            "_view_count": null,
            "_view_module": "@jupyter-widgets/controls",
            "_view_module_version": "1.5.0",
            "_view_name": "HTMLView",
            "description": "",
            "description_tooltip": null,
            "layout": "IPY_MODEL_57e56c9e3baf41b1b4fac597bcc6e845",
            "placeholder": "​",
            "style": "IPY_MODEL_3c1c9f1aed1a42eca06826fdbbc8bc72",
            "value": "model.safetensors: 100%"
          }
        },
        "b012b258f7804cb49399692c8650f04f": {
          "model_module": "@jupyter-widgets/base",
          "model_module_version": "1.2.0",
          "model_name": "LayoutModel",
          "state": {
            "_model_module": "@jupyter-widgets/base",
            "_model_module_version": "1.2.0",
            "_model_name": "LayoutModel",
            "_view_count": null,
            "_view_module": "@jupyter-widgets/base",
            "_view_module_version": "1.2.0",
            "_view_name": "LayoutView",
            "align_content": null,
            "align_items": null,
            "align_self": null,
            "border": null,
            "bottom": null,
            "display": null,
            "flex": null,
            "flex_flow": null,
            "grid_area": null,
            "grid_auto_columns": null,
            "grid_auto_flow": null,
            "grid_auto_rows": null,
            "grid_column": null,
            "grid_gap": null,
            "grid_row": null,
            "grid_template_areas": null,
            "grid_template_columns": null,
            "grid_template_rows": null,
            "height": null,
            "justify_content": null,
            "justify_items": null,
            "left": null,
            "margin": null,
            "max_height": null,
            "max_width": null,
            "min_height": null,
            "min_width": null,
            "object_fit": null,
            "object_position": null,
            "order": null,
            "overflow": null,
            "overflow_x": null,
            "overflow_y": null,
            "padding": null,
            "right": null,
            "top": null,
            "visibility": null,
            "width": null
          }
        },
        "b96cf3e8069c464c96edb9bec75b9895": {
          "model_module": "@jupyter-widgets/base",
          "model_module_version": "1.2.0",
          "model_name": "LayoutModel",
          "state": {
            "_model_module": "@jupyter-widgets/base",
            "_model_module_version": "1.2.0",
            "_model_name": "LayoutModel",
            "_view_count": null,
            "_view_module": "@jupyter-widgets/base",
            "_view_module_version": "1.2.0",
            "_view_name": "LayoutView",
            "align_content": null,
            "align_items": null,
            "align_self": null,
            "border": null,
            "bottom": null,
            "display": null,
            "flex": null,
            "flex_flow": null,
            "grid_area": null,
            "grid_auto_columns": null,
            "grid_auto_flow": null,
            "grid_auto_rows": null,
            "grid_column": null,
            "grid_gap": null,
            "grid_row": null,
            "grid_template_areas": null,
            "grid_template_columns": null,
            "grid_template_rows": null,
            "height": null,
            "justify_content": null,
            "justify_items": null,
            "left": null,
            "margin": null,
            "max_height": null,
            "max_width": null,
            "min_height": null,
            "min_width": null,
            "object_fit": null,
            "object_position": null,
            "order": null,
            "overflow": null,
            "overflow_x": null,
            "overflow_y": null,
            "padding": null,
            "right": null,
            "top": null,
            "visibility": null,
            "width": null
          }
        },
        "c41fcb6187b44389ad7b21a884c725e2": {
          "model_module": "@jupyter-widgets/controls",
          "model_module_version": "1.5.0",
          "model_name": "ProgressStyleModel",
          "state": {
            "_model_module": "@jupyter-widgets/controls",
            "_model_module_version": "1.5.0",
            "_model_name": "ProgressStyleModel",
            "_view_count": null,
            "_view_module": "@jupyter-widgets/base",
            "_view_module_version": "1.2.0",
            "_view_name": "StyleView",
            "bar_color": null,
            "description_width": ""
          }
        },
        "f76eeff88379451a81f03acf783b6dcc": {
          "model_module": "@jupyter-widgets/controls",
          "model_module_version": "1.5.0",
          "model_name": "DescriptionStyleModel",
          "state": {
            "_model_module": "@jupyter-widgets/controls",
            "_model_module_version": "1.5.0",
            "_model_name": "DescriptionStyleModel",
            "_view_count": null,
            "_view_module": "@jupyter-widgets/base",
            "_view_module_version": "1.2.0",
            "_view_name": "StyleView",
            "description_width": ""
          }
        },
        "f97ef9e0dcfe4fc19bef74c9539267a5": {
          "model_module": "@jupyter-widgets/controls",
          "model_module_version": "1.5.0",
          "model_name": "DescriptionStyleModel",
          "state": {
            "_model_module": "@jupyter-widgets/controls",
            "_model_module_version": "1.5.0",
            "_model_name": "DescriptionStyleModel",
            "_view_count": null,
            "_view_module": "@jupyter-widgets/base",
            "_view_module_version": "1.2.0",
            "_view_name": "StyleView",
            "description_width": ""
          }
        },
        "fa1af9e9794d459e979c8a9decd50ef7": {
          "model_module": "@jupyter-widgets/base",
          "model_module_version": "1.2.0",
          "model_name": "LayoutModel",
          "state": {
            "_model_module": "@jupyter-widgets/base",
            "_model_module_version": "1.2.0",
            "_model_name": "LayoutModel",
            "_view_count": null,
            "_view_module": "@jupyter-widgets/base",
            "_view_module_version": "1.2.0",
            "_view_name": "LayoutView",
            "align_content": null,
            "align_items": null,
            "align_self": null,
            "border": null,
            "bottom": null,
            "display": null,
            "flex": null,
            "flex_flow": null,
            "grid_area": null,
            "grid_auto_columns": null,
            "grid_auto_flow": null,
            "grid_auto_rows": null,
            "grid_column": null,
            "grid_gap": null,
            "grid_row": null,
            "grid_template_areas": null,
            "grid_template_columns": null,
            "grid_template_rows": null,
            "height": null,
            "justify_content": null,
            "justify_items": null,
            "left": null,
            "margin": null,
            "max_height": null,
            "max_width": null,
            "min_height": null,
            "min_width": null,
            "object_fit": null,
            "object_position": null,
            "order": null,
            "overflow": null,
            "overflow_x": null,
            "overflow_y": null,
            "padding": null,
            "right": null,
            "top": null,
            "visibility": null,
            "width": null
          }
        }
      }
    }
  },
  "nbformat": 4,
  "nbformat_minor": 0
}
