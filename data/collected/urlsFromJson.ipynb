{
 "cells": [
  {
   "cell_type": "code",
   "execution_count": 1,
   "metadata": {},
   "outputs": [],
   "source": [
    "import json"
   ]
  },
  {
   "cell_type": "code",
   "execution_count": 2,
   "metadata": {},
   "outputs": [],
   "source": [
    "def load_json(filename):\n",
    "    with open(filename, 'r', encoding='utf-8') as file:\n",
    "        data = json.load(file)\n",
    "        return data\n",
    "    \n",
    "def extract_urls(json_data):\n",
    "    urls = set()\n",
    "    for item in json_data:\n",
    "        # Check if 'preview' and 'images' keys exist\n",
    "        if 'preview' in item and 'images' in item['preview']:\n",
    "            for image in item['preview']['images']:\n",
    "                # Extract the 'source' URL\n",
    "                if 'source' in image and 'url' in image['source']:\n",
    "                    urls.add(image['source']['url'])\n",
    "    return urls\n",
    "\n",
    "\n",
    "def save_urls_to_file(urls, filename):\n",
    "    try:\n",
    "        with open(filename, 'w', encoding='utf-8') as file:\n",
    "            for url in urls:\n",
    "                file.write(url + '\\n')\n",
    "    except IOError:\n",
    "        print(f\"Error: Could not write to file '{filename}'.\")"
   ]
  },
  {
   "cell_type": "code",
   "execution_count": 3,
   "metadata": {},
   "outputs": [],
   "source": [
    "data = load_json(\"../data/reddit_wholesomegreentext_posts/posts.json\")\n",
    "image_urls = extract_urls(data)\n",
    "save_urls_to_file(image_urls, \"../data/reddit_wholesomegreentext_posts/image_urls.txt\")"
   ]
  },
  {
   "cell_type": "code",
   "execution_count": null,
   "metadata": {},
   "outputs": [],
   "source": []
  },
  {
   "cell_type": "code",
   "execution_count": null,
   "metadata": {},
   "outputs": [],
   "source": []
  }
 ],
 "metadata": {
  "kernelspec": {
   "display_name": "wholesomegreentextllm-RqUaalAq-py3.12",
   "language": "python",
   "name": "python3"
  },
  "language_info": {
   "codemirror_mode": {
    "name": "ipython",
    "version": 3
   },
   "file_extension": ".py",
   "mimetype": "text/x-python",
   "name": "python",
   "nbconvert_exporter": "python",
   "pygments_lexer": "ipython3",
   "version": "3.12.1"
  }
 },
 "nbformat": 4,
 "nbformat_minor": 2
}
