{
 "cells": [
  {
   "cell_type": "code",
   "execution_count": 1,
   "metadata": {},
   "outputs": [
    {
     "name": "stderr",
     "output_type": "stream",
     "text": [
      "/Users/maxmynter/Library/Caches/pypoetry/virtualenvs/wholesomegreentextllm-RqUaalAq-py3.10/lib/python3.10/site-packages/huggingface_hub/repocard.py:105: UserWarning: Repo card metadata block was not found. Setting CardData to empty.\n",
      "  warnings.warn(\"Repo card metadata block was not found. Setting CardData to empty.\")\n"
     ]
    }
   ],
   "source": [
    "from datasets import load_dataset\n",
    "\n",
    "reference = load_dataset(\"roneneldan/TinyStories\")"
   ]
  },
  {
   "cell_type": "code",
   "execution_count": 2,
   "metadata": {},
   "outputs": [],
   "source": [
    "import pandas as pd"
   ]
  },
  {
   "cell_type": "code",
   "execution_count": 3,
   "metadata": {},
   "outputs": [
    {
     "name": "stdout",
     "output_type": "stream",
     "text": [
      "   Unnamed: 0                                         greentexts\n",
      "0           0  > Meet new friend at playground\\n> Share toys ...\n",
      "1           1  > Have playdate at Grandma's house\\n> Grandma ...\n",
      "2           2  > Go to birthday party\\n> Get a present from a...\n",
      "3           3  > Help Mom make dinner\\n> Stir the sauce and a...\n",
      "4           4  > Go to school\\n> Teacher reads a fun story\\n>...\n",
      "                                                text\n",
      "0  One day, a little girl named Lily found a need...\n",
      "1  Once upon a time, there was a little car named...\n",
      "2  One day, a little fish named Fin was swimming ...\n",
      "3  Once upon a time, in a land full of trees, the...\n",
      "4  Once upon a time, there was a little girl name...\n"
     ]
    }
   ],
   "source": [
    "#gtx = pd.read_csv(\"../../data/open_ai_110k.csv\")\n",
    "#gtx = pd.read_csv(\"../simple_generation/generated_simple_greentexts.csv\")\n",
    "gtx = pd.read_csv(\"../../data/openai_thanks_59k.csv\")\n",
    "\n",
    "ref = pd.DataFrame(reference['train'])\n",
    "\n",
    "print(gtx.head())\n",
    "print(ref.head())"
   ]
  },
  {
   "cell_type": "code",
   "execution_count": 4,
   "metadata": {},
   "outputs": [],
   "source": [
    "def word_process(word):\n",
    "    word = word.replace(\"'\",\"\") # Remove double string quotation marks\n",
    "    punctuation = \",.!?;:'%\"\n",
    "    for p in punctuation:\n",
    "        word = word.replace(p,\"\")\n",
    "    return word.lower()"
   ]
  },
  {
   "cell_type": "code",
   "execution_count": 5,
   "metadata": {},
   "outputs": [],
   "source": [
    "ref_set = set()\n",
    "\n",
    "for index, row in ref.iterrows():\n",
    "    [ref_set.add(word_process(word)) for word in row[\"text\"].split()]\n",
    "    "
   ]
  },
  {
   "cell_type": "code",
   "execution_count": 6,
   "metadata": {},
   "outputs": [
    {
     "name": "stdout",
     "output_type": "stream",
     "text": [
      "100300\n"
     ]
    }
   ],
   "source": [
    "add_words = [\n",
    "    \"exe\", \"jpg\", \"pepe\", \"mfw\", \"meme\", \"4chan\", \"twitter\", \"instagram\", \"facebook\", 'youtube'\n",
    "    \"tiktok\", \"feelsbadman\", \"discord\", \"anon\", \"google\", \"netflix\", \"iphone\", \"\", \"...\",\n",
    "    \"caesar\", \"computer\", \"pc\", \"nietzsche\", \"cleopatra\", \"mapoleon\", \"bonaparte\", \"bitcoin\",\n",
    "    \"cryptocurrency\", \"crypto\", \"buffering\", \"spam\", \"download\", \"keyboard\", \"lol\"\n",
    "]\n",
    "\n",
    "for w in add_words:\n",
    "    ref_set.add(w)\n",
    "print(len(ref_set))"
   ]
  },
  {
   "cell_type": "code",
   "execution_count": 7,
   "metadata": {},
   "outputs": [],
   "source": [
    "# Idea. Maybe want to still allow certain selected concepts to still exist even though they are not simple words. \n",
    "# Like .exe, .jpg, pepe, mfw, meme, 4chan, twitter, instagram, facebook, tiktok, Feelsbadman, discord, anon, google, netflix \n",
    "# Should include '...', \n",
    "# (Idea) Can also, for simplification, make everything to lowercase. \n",
    "# In any case, make the set lower such that capitalization does not matter for word ID"
   ]
  },
  {
   "cell_type": "code",
   "execution_count": 8,
   "metadata": {},
   "outputs": [],
   "source": [
    "gtx[\"is_simple\"] = 0\n",
    "\n",
    "for index, row in gtx.iterrows():\n",
    "    greentext_words = row[\"greentexts\"].replace(\"\\n\", \"\" ).replace(\">\", \" \").split()\n",
    "    greentext_words = [word_process(word) for word in greentext_words]\n",
    "    if set(greentext_words).issubset(ref_set):\n",
    "        gtx.at[index, \"is_simple\"] = 1\n",
    "\n"
   ]
  },
  {
   "cell_type": "code",
   "execution_count": 9,
   "metadata": {},
   "outputs": [],
   "source": [
    "simple_gtx = gtx[gtx[\"is_simple\"] == 1]\n",
    "hard_gtx = gtx[gtx[\"is_simple\"] == 0]"
   ]
  },
  {
   "cell_type": "code",
   "execution_count": 10,
   "metadata": {},
   "outputs": [
    {
     "data": {
      "text/html": [
       "<div>\n",
       "<style scoped>\n",
       "    .dataframe tbody tr th:only-of-type {\n",
       "        vertical-align: middle;\n",
       "    }\n",
       "\n",
       "    .dataframe tbody tr th {\n",
       "        vertical-align: top;\n",
       "    }\n",
       "\n",
       "    .dataframe thead th {\n",
       "        text-align: right;\n",
       "    }\n",
       "</style>\n",
       "<table border=\"1\" class=\"dataframe\">\n",
       "  <thead>\n",
       "    <tr style=\"text-align: right;\">\n",
       "      <th></th>\n",
       "      <th>Unnamed: 0</th>\n",
       "      <th>greentexts</th>\n",
       "      <th>is_simple</th>\n",
       "    </tr>\n",
       "  </thead>\n",
       "  <tbody>\n",
       "    <tr>\n",
       "      <th>0</th>\n",
       "      <td>0</td>\n",
       "      <td>&gt; Meet new friend at playground\\n&gt; Share toys ...</td>\n",
       "      <td>1</td>\n",
       "    </tr>\n",
       "    <tr>\n",
       "      <th>1</th>\n",
       "      <td>1</td>\n",
       "      <td>&gt; Have playdate at Grandma's house\\n&gt; Grandma ...</td>\n",
       "      <td>1</td>\n",
       "    </tr>\n",
       "    <tr>\n",
       "      <th>2</th>\n",
       "      <td>2</td>\n",
       "      <td>&gt; Go to birthday party\\n&gt; Get a present from a...</td>\n",
       "      <td>1</td>\n",
       "    </tr>\n",
       "    <tr>\n",
       "      <th>3</th>\n",
       "      <td>3</td>\n",
       "      <td>&gt; Help Mom make dinner\\n&gt; Stir the sauce and a...</td>\n",
       "      <td>1</td>\n",
       "    </tr>\n",
       "    <tr>\n",
       "      <th>4</th>\n",
       "      <td>4</td>\n",
       "      <td>&gt; Go to school\\n&gt; Teacher reads a fun story\\n&gt;...</td>\n",
       "      <td>1</td>\n",
       "    </tr>\n",
       "    <tr>\n",
       "      <th>...</th>\n",
       "      <td>...</td>\n",
       "      <td>...</td>\n",
       "      <td>...</td>\n",
       "    </tr>\n",
       "    <tr>\n",
       "      <th>58748</th>\n",
       "      <td>59455</td>\n",
       "      <td>&gt; Question the concept of time\\n&gt; Wonder if it...</td>\n",
       "      <td>1</td>\n",
       "    </tr>\n",
       "    <tr>\n",
       "      <th>58749</th>\n",
       "      <td>59456</td>\n",
       "      <td>&gt; Ponder about the meaning of love\\n&gt; Feel war...</td>\n",
       "      <td>1</td>\n",
       "    </tr>\n",
       "    <tr>\n",
       "      <th>58751</th>\n",
       "      <td>59458</td>\n",
       "      <td>&gt; Reflect on the purpose of laughter\\n&gt; Releas...</td>\n",
       "      <td>1</td>\n",
       "    </tr>\n",
       "    <tr>\n",
       "      <th>58752</th>\n",
       "      <td>59459</td>\n",
       "      <td>&gt; Wonder about the power of words\\n&gt; Realize t...</td>\n",
       "      <td>1</td>\n",
       "    </tr>\n",
       "    <tr>\n",
       "      <th>58753</th>\n",
       "      <td>59460</td>\n",
       "      <td>&gt; Contemplate the nature of truth\\n&gt; Seek it i...</td>\n",
       "      <td>1</td>\n",
       "    </tr>\n",
       "  </tbody>\n",
       "</table>\n",
       "<p>55863 rows × 3 columns</p>\n",
       "</div>"
      ],
      "text/plain": [
       "       Unnamed: 0                                         greentexts  \\\n",
       "0               0  > Meet new friend at playground\\n> Share toys ...   \n",
       "1               1  > Have playdate at Grandma's house\\n> Grandma ...   \n",
       "2               2  > Go to birthday party\\n> Get a present from a...   \n",
       "3               3  > Help Mom make dinner\\n> Stir the sauce and a...   \n",
       "4               4  > Go to school\\n> Teacher reads a fun story\\n>...   \n",
       "...           ...                                                ...   \n",
       "58748       59455  > Question the concept of time\\n> Wonder if it...   \n",
       "58749       59456  > Ponder about the meaning of love\\n> Feel war...   \n",
       "58751       59458  > Reflect on the purpose of laughter\\n> Releas...   \n",
       "58752       59459  > Wonder about the power of words\\n> Realize t...   \n",
       "58753       59460  > Contemplate the nature of truth\\n> Seek it i...   \n",
       "\n",
       "       is_simple  \n",
       "0              1  \n",
       "1              1  \n",
       "2              1  \n",
       "3              1  \n",
       "4              1  \n",
       "...          ...  \n",
       "58748          1  \n",
       "58749          1  \n",
       "58751          1  \n",
       "58752          1  \n",
       "58753          1  \n",
       "\n",
       "[55863 rows x 3 columns]"
      ]
     },
     "execution_count": 10,
     "metadata": {},
     "output_type": "execute_result"
    }
   ],
   "source": [
    "simple_gtx"
   ]
  },
  {
   "cell_type": "code",
   "execution_count": 11,
   "metadata": {},
   "outputs": [],
   "source": [
    "for idx, row in gtx.iterrows():\n",
    "    if not \">\" in row[\"greentexts\"]:\n",
    "        print(row[\"greentexts\"])"
   ]
  },
  {
   "cell_type": "code",
   "execution_count": 12,
   "metadata": {},
   "outputs": [],
   "source": [
    "# Only uncomment and execute if you really want to save something\n",
    "simple_gtx['greentexts'].to_csv(\"openai_simple_thanks.csv\")"
   ]
  },
  {
   "cell_type": "code",
   "execution_count": 13,
   "metadata": {},
   "outputs": [
    {
     "data": {
      "text/html": [
       "<div>\n",
       "<style scoped>\n",
       "    .dataframe tbody tr th:only-of-type {\n",
       "        vertical-align: middle;\n",
       "    }\n",
       "\n",
       "    .dataframe tbody tr th {\n",
       "        vertical-align: top;\n",
       "    }\n",
       "\n",
       "    .dataframe thead th {\n",
       "        text-align: right;\n",
       "    }\n",
       "</style>\n",
       "<table border=\"1\" class=\"dataframe\">\n",
       "  <thead>\n",
       "    <tr style=\"text-align: right;\">\n",
       "      <th></th>\n",
       "      <th>Unnamed: 0</th>\n",
       "      <th>greentexts</th>\n",
       "      <th>is_simple</th>\n",
       "    </tr>\n",
       "  </thead>\n",
       "  <tbody>\n",
       "    <tr>\n",
       "      <th>30</th>\n",
       "      <td>30</td>\n",
       "      <td>&gt; Grandma gives me a new smartwatch\\n&gt; Take a ...</td>\n",
       "      <td>0</td>\n",
       "    </tr>\n",
       "    <tr>\n",
       "      <th>58</th>\n",
       "      <td>58</td>\n",
       "      <td>&gt; Uncle downloads a fun game on the tablet\\n&gt; ...</td>\n",
       "      <td>0</td>\n",
       "    </tr>\n",
       "    <tr>\n",
       "      <th>66</th>\n",
       "      <td>66</td>\n",
       "      <td>&gt; Find Mom's old iPod in the drawer\\n&gt; Listen ...</td>\n",
       "      <td>0</td>\n",
       "    </tr>\n",
       "    <tr>\n",
       "      <th>95</th>\n",
       "      <td>95</td>\n",
       "      <td>&gt; Going on a train ride\\n&gt; Spot a steam engine...</td>\n",
       "      <td>0</td>\n",
       "    </tr>\n",
       "    <tr>\n",
       "      <th>105</th>\n",
       "      <td>105</td>\n",
       "      <td>&gt; Uncle lets me play with his VR headset\\n&gt; Ex...</td>\n",
       "      <td>0</td>\n",
       "    </tr>\n",
       "    <tr>\n",
       "      <th>...</th>\n",
       "      <td>...</td>\n",
       "      <td>...</td>\n",
       "      <td>...</td>\n",
       "    </tr>\n",
       "    <tr>\n",
       "      <th>58676</th>\n",
       "      <td>59356</td>\n",
       "      <td>&gt; Build a tall tower with blocks\\n&gt; Step back ...</td>\n",
       "      <td>0</td>\n",
       "    </tr>\n",
       "    <tr>\n",
       "      <th>58720</th>\n",
       "      <td>59427</td>\n",
       "      <td>&gt; Visited a faraway planet\\n&gt; Met friendly ali...</td>\n",
       "      <td>0</td>\n",
       "    </tr>\n",
       "    <tr>\n",
       "      <th>58726</th>\n",
       "      <td>59433</td>\n",
       "      <td>&gt; Built a time-traveling machine\\n&gt; Visited th...</td>\n",
       "      <td>0</td>\n",
       "    </tr>\n",
       "    <tr>\n",
       "      <th>58727</th>\n",
       "      <td>59434</td>\n",
       "      <td>&gt; Went on an adventure to the moon\\n&gt; Explored...</td>\n",
       "      <td>0</td>\n",
       "    </tr>\n",
       "    <tr>\n",
       "      <th>58750</th>\n",
       "      <td>59457</td>\n",
       "      <td>&gt; Ask what makes me unique\\n&gt; Embrace my quirk...</td>\n",
       "      <td>0</td>\n",
       "    </tr>\n",
       "  </tbody>\n",
       "</table>\n",
       "<p>2891 rows × 3 columns</p>\n",
       "</div>"
      ],
      "text/plain": [
       "       Unnamed: 0                                         greentexts  \\\n",
       "30             30  > Grandma gives me a new smartwatch\\n> Take a ...   \n",
       "58             58  > Uncle downloads a fun game on the tablet\\n> ...   \n",
       "66             66  > Find Mom's old iPod in the drawer\\n> Listen ...   \n",
       "95             95  > Going on a train ride\\n> Spot a steam engine...   \n",
       "105           105  > Uncle lets me play with his VR headset\\n> Ex...   \n",
       "...           ...                                                ...   \n",
       "58676       59356  > Build a tall tower with blocks\\n> Step back ...   \n",
       "58720       59427  > Visited a faraway planet\\n> Met friendly ali...   \n",
       "58726       59433  > Built a time-traveling machine\\n> Visited th...   \n",
       "58727       59434  > Went on an adventure to the moon\\n> Explored...   \n",
       "58750       59457  > Ask what makes me unique\\n> Embrace my quirk...   \n",
       "\n",
       "       is_simple  \n",
       "30             0  \n",
       "58             0  \n",
       "66             0  \n",
       "95             0  \n",
       "105            0  \n",
       "...          ...  \n",
       "58676          0  \n",
       "58720          0  \n",
       "58726          0  \n",
       "58727          0  \n",
       "58750          0  \n",
       "\n",
       "[2891 rows x 3 columns]"
      ]
     },
     "execution_count": 13,
     "metadata": {},
     "output_type": "execute_result"
    }
   ],
   "source": [
    "hard_gtx"
   ]
  },
  {
   "cell_type": "code",
   "execution_count": null,
   "metadata": {},
   "outputs": [],
   "source": []
  }
 ],
 "metadata": {
  "kernelspec": {
   "display_name": "wholesomegreentextllm-RqUaalAq-py3.10",
   "language": "python",
   "name": "python3"
  },
  "language_info": {
   "codemirror_mode": {
    "name": "ipython",
    "version": 3
   },
   "file_extension": ".py",
   "mimetype": "text/x-python",
   "name": "python",
   "nbconvert_exporter": "python",
   "pygments_lexer": "ipython3",
   "version": "3.10.0"
  }
 },
 "nbformat": 4,
 "nbformat_minor": 2
}
